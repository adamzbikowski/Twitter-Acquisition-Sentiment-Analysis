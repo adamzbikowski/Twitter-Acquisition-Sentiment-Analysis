{
 "cells": [
  {
   "cell_type": "code",
   "execution_count": 5,
   "metadata": {},
   "outputs": [],
   "source": [
    "### IMPORTS AND DRIVER SETUP\n",
    "\n",
    "from selenium import webdriver\n",
    "from selenium.webdriver.common.keys import Keys\n",
    "from selenium.common.exceptions import NoSuchElementException\n",
    "from selenium.common.exceptions import StaleElementReferenceException\n",
    "from selenium.webdriver.support.ui import Select\n",
    "from selenium.webdriver.support.ui import WebDriverWait\n",
    "from selenium.webdriver.support import expected_conditions as EC\n",
    "from selenium.webdriver.common.by import By\n",
    "from selenium.common.exceptions import TimeoutException, ElementNotVisibleException, UnexpectedAlertPresentException, NoAlertPresentException\n",
    "from selenium.common.exceptions import SessionNotCreatedException, WebDriverException\n",
    "from selenium.webdriver.chrome.options import Options\n",
    "\n",
    "import time\n",
    "import pandas as pd\n",
    "import os\n",
    "import re\n",
    "import sys\n",
    "import linecache\n",
    "import numpy as np\n",
    "import datefinder\n",
    "\n",
    "from bs4 import BeautifulSoup as soup\n",
    "from pandas import NA\n",
    "\n",
    "chrome_driver_binary = \"/Users/andrin/Library/CloudStorage/OneDrive-LondonSchoolofEconomics/DS Project/chromedriver\"\n",
    "\n",
    "driver = webdriver.Chrome(chrome_driver_binary)\n",
    "\n"
   ]
  },
  {
   "cell_type": "code",
   "execution_count": 6,
   "metadata": {},
   "outputs": [
    {
     "name": "stdout",
     "output_type": "stream",
     "text": [
      "\n"
     ]
    }
   ],
   "source": [
    "driver.get(\"https://www.python.org\")\n"
   ]
  },
  {
   "cell_type": "code",
   "execution_count": 7,
   "metadata": {},
   "outputs": [
    {
     "name": "stdout",
     "output_type": "stream",
     "text": [
      "https://www.python.org/search/?q=getting+started+with+python&submit=\n"
     ]
    }
   ],
   "source": [
    "time.sleep(2)\n",
    "search_bar = driver.find_element_by_name(\"q\")\n",
    "time.sleep(3)\n",
    "search_bar.clear()\n",
    "search_bar.send_keys(\"getting started with python\")\n",
    "\n",
    "time.sleep(1)\n",
    "search_bar.send_keys(Keys.RETURN)\n",
    "\n",
    "print(driver.current_url)"
   ]
  }
 ],
 "metadata": {
  "kernelspec": {
   "display_name": "StandardKernel",
   "language": "python",
   "name": "python3"
  },
  "language_info": {
   "codemirror_mode": {
    "name": "ipython",
    "version": 3
   },
   "file_extension": ".py",
   "mimetype": "text/x-python",
   "name": "python",
   "nbconvert_exporter": "python",
   "pygments_lexer": "ipython3",
   "version": "3.11.5"
  }
 },
 "nbformat": 4,
 "nbformat_minor": 2
}
