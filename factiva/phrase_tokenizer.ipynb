{
 "cells": [
  {
   "cell_type": "code",
   "execution_count": 22,
   "metadata": {},
   "outputs": [
    {
     "name": "stderr",
     "output_type": "stream",
     "text": [
      "[nltk_data] Downloading package vader_lexicon to\n",
      "[nltk_data]     /Users/andrin/nltk_data...\n",
      "[nltk_data]   Package vader_lexicon is already up-to-date!\n",
      "[nltk_data] Downloading package punkt to /Users/andrin/nltk_data...\n",
      "[nltk_data]   Package punkt is already up-to-date!\n"
     ]
    }
   ],
   "source": [
    "import re\n",
    "import pandas as pd\n",
    "import matplotlib.pyplot as plt\n",
    "import nltk\n",
    "\n",
    "from nltk.sentiment.vader import SentimentIntensityAnalyzer\n",
    "nltk.download('vader_lexicon')\n",
    "\n",
    "import warnings\n",
    "warnings.simplefilter(action='ignore', category=FutureWarning)\n",
    "\n",
    "\n",
    "from nltk import tokenize\n",
    "nltk.download('punkt')\n",
    "tokenizer = nltk.data.load('tokenizers/punkt/english.pickle')"
   ]
  },
  {
   "cell_type": "code",
   "execution_count": 23,
   "metadata": {},
   "outputs": [],
   "source": [
    "art_df_full = pd.read_csv(\"Factiva.csv\")\n",
    "art_df_full[\"row_id\"] = art_df_full.index + 1\n",
    "\n",
    "bankname_df = art_df_full.copy()\n",
    "bankname_df = bankname_df.fillna('')\n",
    "bankname_df['TEXT'] = bankname_df['TEXT'].str.casefold()\n"
   ]
  },
  {
   "cell_type": "code",
   "execution_count": 24,
   "metadata": {},
   "outputs": [],
   "source": [
    "bank_dict = {\"Elon Musk\": [\"elon\",\"musk\",\"elon musk\"]}"
   ]
  },
  {
   "cell_type": "code",
   "execution_count": 25,
   "metadata": {},
   "outputs": [],
   "source": [
    "\n",
    "for i in range(len(bankname_df['TEXT'])):\n",
    "\n",
    "    text = bankname_df['TEXT'][i]\n",
    "\n",
    "    phrases = tokenizer.tokenize(text)\n",
    "\n",
    "    bank_phrases = []\n",
    "\n",
    "    potential_names = bank_dict[\"Elon Musk\"]\n",
    "\n",
    "    for phrase in phrases:\n",
    "\n",
    "        for name in potential_names:\n",
    "            if name in phrase:\n",
    "                bank_phrases.append(phrase)\n",
    "\n",
    "    new_text = \" \".join(bank_phrases)\n",
    "\n",
    "    bankname_df.at[i,'TEXT'] = new_text\n"
   ]
  },
  {
   "cell_type": "code",
   "execution_count": 26,
   "metadata": {},
   "outputs": [],
   "source": [
    "art_df = bankname_df[['row_id', 'TEXT']].copy()\n",
    "\n",
    "art_df['TEXT'] = art_df['TEXT'].str.replace(\"[^a-zA-Z#]\", \" \")\n",
    "\n",
    "art_df['TEXT'] = art_df['TEXT'].str.casefold()\n",
    "\n",
    "art_df = art_df.fillna('')"
   ]
  },
  {
   "cell_type": "code",
   "execution_count": 27,
   "metadata": {},
   "outputs": [],
   "source": [
    "results_df = pd.DataFrame()\n",
    "results_df['row_id'] = ['99999999999']\n",
    "results_df['sentiment_type'] = pd.NA\n",
    "results_df['sentiment_score'] = 0"
   ]
  },
  {
   "cell_type": "code",
   "execution_count": 28,
   "metadata": {},
   "outputs": [],
   "source": [
    "sid = SentimentIntensityAnalyzer()\n",
    "t_df = results_df\n",
    "\n",
    "for index, row in art_df.iterrows():\n",
    "\n",
    "    #print(index)\n",
    "\n",
    "    scores = sid.polarity_scores(row[1])\n",
    "\n",
    "    for key, value in scores.items():\n",
    "\n",
    "        temp = [key,value,row[0]]\n",
    "\n",
    "        results_df['row_id'] = row[0]\n",
    "        results_df['sentiment_type'] = key\n",
    "        results_df['sentiment_score'] = value\n",
    "\n",
    "        t_df = pd.concat([t_df, results_df], ignore_index=True)\n",
    "\n",
    "t_df_cleaned = t_df[t_df.row_id != '99999999999']\n",
    "\n",
    "t_df_cleaned = t_df_cleaned.drop_duplicates()\n",
    "\n",
    "t_df_cleaned = t_df[t_df.sentiment_type == 'compound']"
   ]
  },
  {
   "cell_type": "code",
   "execution_count": 29,
   "metadata": {},
   "outputs": [
    {
     "ename": "KeyError",
     "evalue": "\"['row_id'] not in index\"",
     "output_type": "error",
     "traceback": [
      "\u001b[0;31m---------------------------------------------------------------------------\u001b[0m",
      "\u001b[0;31mKeyError\u001b[0m                                  Traceback (most recent call last)",
      "\u001b[1;32m/Users/andrin/Documents/GitHub/Twitter-Acquisition-Sentiment-Analysis/factiva/phrase_tokenizer.ipynb Cell 8\u001b[0m line \u001b[0;36m7\n\u001b[1;32m      <a href='vscode-notebook-cell:/Users/andrin/Documents/GitHub/Twitter-Acquisition-Sentiment-Analysis/factiva/phrase_tokenizer.ipynb#X10sZmlsZQ%3D%3D?line=2'>3</a>\u001b[0m article_scores_df[\u001b[39m'\u001b[39m\u001b[39mYEAR\u001b[39m\u001b[39m'\u001b[39m] \u001b[39m=\u001b[39m article_scores_df[\u001b[39m'\u001b[39m\u001b[39mDATE\u001b[39m\u001b[39m'\u001b[39m]\u001b[39m.\u001b[39mstr\u001b[39m.\u001b[39mslice(\u001b[39m0\u001b[39m,\u001b[39m4\u001b[39m)\n\u001b[1;32m      <a href='vscode-notebook-cell:/Users/andrin/Documents/GitHub/Twitter-Acquisition-Sentiment-Analysis/factiva/phrase_tokenizer.ipynb#X10sZmlsZQ%3D%3D?line=4'>5</a>\u001b[0m article_scores_df \u001b[39m=\u001b[39m article_scores_df\u001b[39m.\u001b[39mdrop(article_scores_df\u001b[39m.\u001b[39mcolumns[[\u001b[39m7\u001b[39m]] , axis\u001b[39m=\u001b[39m\u001b[39m1\u001b[39m)\n\u001b[0;32m----> <a href='vscode-notebook-cell:/Users/andrin/Documents/GitHub/Twitter-Acquisition-Sentiment-Analysis/factiva/phrase_tokenizer.ipynb#X10sZmlsZQ%3D%3D?line=6'>7</a>\u001b[0m bank_phrase_scores \u001b[39m=\u001b[39m article_scores_df[[\u001b[39m'\u001b[39;49m\u001b[39mrow_id\u001b[39;49m\u001b[39m'\u001b[39;49m, \u001b[39m'\u001b[39;49m\u001b[39msentiment_score\u001b[39;49m\u001b[39m'\u001b[39;49m]]\u001b[39m.\u001b[39mcopy()\n\u001b[1;32m      <a href='vscode-notebook-cell:/Users/andrin/Documents/GitHub/Twitter-Acquisition-Sentiment-Analysis/factiva/phrase_tokenizer.ipynb#X10sZmlsZQ%3D%3D?line=8'>9</a>\u001b[0m bank_phrase_scores\u001b[39m.\u001b[39mcolumns \u001b[39m=\u001b[39m [\u001b[39m'\u001b[39m\u001b[39mrow_id\u001b[39m\u001b[39m'\u001b[39m,\u001b[39m'\u001b[39m\u001b[39mphrase_score\u001b[39m\u001b[39m'\u001b[39m]\n\u001b[1;32m     <a href='vscode-notebook-cell:/Users/andrin/Documents/GitHub/Twitter-Acquisition-Sentiment-Analysis/factiva/phrase_tokenizer.ipynb#X10sZmlsZQ%3D%3D?line=10'>11</a>\u001b[0m bank_phrase_scores\u001b[39m.\u001b[39mto_csv(\u001b[39m\"\u001b[39m\u001b[39mfactiva_phrase_scores.csv\u001b[39m\u001b[39m\"\u001b[39m, encoding\u001b[39m=\u001b[39m\u001b[39m'\u001b[39m\u001b[39mutf-8\u001b[39m\u001b[39m'\u001b[39m, index\u001b[39m=\u001b[39m\u001b[39mFalse\u001b[39;00m)\n",
      "File \u001b[0;32m~/anaconda3/envs/StandardKernel/lib/python3.11/site-packages/pandas/core/frame.py:3767\u001b[0m, in \u001b[0;36mDataFrame.__getitem__\u001b[0;34m(self, key)\u001b[0m\n\u001b[1;32m   3765\u001b[0m     \u001b[39mif\u001b[39;00m is_iterator(key):\n\u001b[1;32m   3766\u001b[0m         key \u001b[39m=\u001b[39m \u001b[39mlist\u001b[39m(key)\n\u001b[0;32m-> 3767\u001b[0m     indexer \u001b[39m=\u001b[39m \u001b[39mself\u001b[39;49m\u001b[39m.\u001b[39;49mcolumns\u001b[39m.\u001b[39;49m_get_indexer_strict(key, \u001b[39m\"\u001b[39;49m\u001b[39mcolumns\u001b[39;49m\u001b[39m\"\u001b[39;49m)[\u001b[39m1\u001b[39m]\n\u001b[1;32m   3769\u001b[0m \u001b[39m# take() does not accept boolean indexers\u001b[39;00m\n\u001b[1;32m   3770\u001b[0m \u001b[39mif\u001b[39;00m \u001b[39mgetattr\u001b[39m(indexer, \u001b[39m\"\u001b[39m\u001b[39mdtype\u001b[39m\u001b[39m\"\u001b[39m, \u001b[39mNone\u001b[39;00m) \u001b[39m==\u001b[39m \u001b[39mbool\u001b[39m:\n",
      "File \u001b[0;32m~/anaconda3/envs/StandardKernel/lib/python3.11/site-packages/pandas/core/indexes/base.py:5877\u001b[0m, in \u001b[0;36mIndex._get_indexer_strict\u001b[0;34m(self, key, axis_name)\u001b[0m\n\u001b[1;32m   5874\u001b[0m \u001b[39melse\u001b[39;00m:\n\u001b[1;32m   5875\u001b[0m     keyarr, indexer, new_indexer \u001b[39m=\u001b[39m \u001b[39mself\u001b[39m\u001b[39m.\u001b[39m_reindex_non_unique(keyarr)\n\u001b[0;32m-> 5877\u001b[0m \u001b[39mself\u001b[39;49m\u001b[39m.\u001b[39;49m_raise_if_missing(keyarr, indexer, axis_name)\n\u001b[1;32m   5879\u001b[0m keyarr \u001b[39m=\u001b[39m \u001b[39mself\u001b[39m\u001b[39m.\u001b[39mtake(indexer)\n\u001b[1;32m   5880\u001b[0m \u001b[39mif\u001b[39;00m \u001b[39misinstance\u001b[39m(key, Index):\n\u001b[1;32m   5881\u001b[0m     \u001b[39m# GH 42790 - Preserve name from an Index\u001b[39;00m\n",
      "File \u001b[0;32m~/anaconda3/envs/StandardKernel/lib/python3.11/site-packages/pandas/core/indexes/base.py:5941\u001b[0m, in \u001b[0;36mIndex._raise_if_missing\u001b[0;34m(self, key, indexer, axis_name)\u001b[0m\n\u001b[1;32m   5938\u001b[0m     \u001b[39mraise\u001b[39;00m \u001b[39mKeyError\u001b[39;00m(\u001b[39mf\u001b[39m\u001b[39m\"\u001b[39m\u001b[39mNone of [\u001b[39m\u001b[39m{\u001b[39;00mkey\u001b[39m}\u001b[39;00m\u001b[39m] are in the [\u001b[39m\u001b[39m{\u001b[39;00maxis_name\u001b[39m}\u001b[39;00m\u001b[39m]\u001b[39m\u001b[39m\"\u001b[39m)\n\u001b[1;32m   5940\u001b[0m not_found \u001b[39m=\u001b[39m \u001b[39mlist\u001b[39m(ensure_index(key)[missing_mask\u001b[39m.\u001b[39mnonzero()[\u001b[39m0\u001b[39m]]\u001b[39m.\u001b[39munique())\n\u001b[0;32m-> 5941\u001b[0m \u001b[39mraise\u001b[39;00m \u001b[39mKeyError\u001b[39;00m(\u001b[39mf\u001b[39m\u001b[39m\"\u001b[39m\u001b[39m{\u001b[39;00mnot_found\u001b[39m}\u001b[39;00m\u001b[39m not in index\u001b[39m\u001b[39m\"\u001b[39m)\n",
      "\u001b[0;31mKeyError\u001b[0m: \"['row_id'] not in index\""
     ]
    }
   ],
   "source": [
    "article_scores_df = pd.merge(art_df_full, t_df_cleaned, on='row_id', how='inner')\n",
    "\n",
    "article_scores_df['YEAR'] = article_scores_df['DATE'].str.slice(0,4)\n",
    "\n",
    "article_scores_df = article_scores_df.drop(article_scores_df.columns[[7]] , axis=1)\n",
    "\n",
    "bank_phrase_scores = article_scores_df[['row_id', 'sentiment_score']].copy()\n",
    "\n",
    "bank_phrase_scores.columns = ['row_id','phrase_score']\n",
    "\n",
    "bank_phrase_scores.to_csv(\"factiva_phrase_scores.csv\", encoding='utf-8', index=False)\n"
   ]
  }
 ],
 "metadata": {
  "kernelspec": {
   "display_name": "Python 3.10.6 ('DS')",
   "language": "python",
   "name": "python3"
  },
  "language_info": {
   "codemirror_mode": {
    "name": "ipython",
    "version": 3
   },
   "file_extension": ".py",
   "mimetype": "text/x-python",
   "name": "python",
   "nbconvert_exporter": "python",
   "pygments_lexer": "ipython3",
   "version": "3.11.5"
  },
  "orig_nbformat": 4,
  "vscode": {
   "interpreter": {
    "hash": "2833468afbe68c1915aa0ef4526a6a9999e833182eeda04cf9dde33a641b4667"
   }
  }
 },
 "nbformat": 4,
 "nbformat_minor": 2
}
