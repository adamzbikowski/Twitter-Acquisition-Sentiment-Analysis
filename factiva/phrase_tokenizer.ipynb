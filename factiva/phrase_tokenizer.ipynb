{
 "cells": [
  {
   "cell_type": "code",
   "execution_count": 5,
   "metadata": {},
   "outputs": [
    {
     "name": "stderr",
     "output_type": "stream",
     "text": [
      "[nltk_data] Downloading package vader_lexicon to\n",
      "[nltk_data]     /Users/andrin/nltk_data...\n",
      "[nltk_data]   Package vader_lexicon is already up-to-date!\n",
      "[nltk_data] Downloading package punkt to /Users/andrin/nltk_data...\n",
      "[nltk_data]   Unzipping tokenizers/punkt.zip.\n"
     ]
    }
   ],
   "source": [
    "import re\n",
    "import pandas as pd\n",
    "import matplotlib.pyplot as plt\n",
    "import nltk\n",
    "\n",
    "from nltk.sentiment.vader import SentimentIntensityAnalyzer\n",
    "nltk.download('vader_lexicon')\n",
    "\n",
    "import warnings\n",
    "warnings.simplefilter(action='ignore', category=FutureWarning)\n",
    "\n",
    "\n",
    "from nltk import tokenize\n",
    "nltk.download('punkt')\n",
    "tokenizer = nltk.data.load('tokenizers/punkt/english.pickle')"
   ]
  },
  {
   "cell_type": "code",
   "execution_count": 6,
   "metadata": {},
   "outputs": [],
   "source": [
    "art_df_full = pd.read_csv(\"Factiva_WSJ.csv\")\n",
    "art_df_full[\"row_id\"] = art_df_full.index + 1\n",
    "\n",
    "bankname_df = art_df_full.copy()\n",
    "bankname_df = bankname_df.fillna('')\n",
    "bankname_df['TEXT'] = bankname_df['TEXT'].str.casefold()\n"
   ]
  },
  {
   "cell_type": "code",
   "execution_count": 7,
   "metadata": {},
   "outputs": [],
   "source": [
    "bank_dict = {\"Elon Musk\": [\"elon\",\"musk\",\"elon musk\"]}"
   ]
  },
  {
   "cell_type": "code",
   "execution_count": 10,
   "metadata": {},
   "outputs": [],
   "source": [
    "\n",
    "for i in range(len(bankname_df['TEXT'])):\n",
    "\n",
    "    text = bankname_df['TEXT'][i]\n",
    "\n",
    "    phrases = tokenizer.tokenize(text)\n",
    "\n",
    "    bank_phrases = []\n",
    "\n",
    "    potential_names = bank_dict[\"Elon Musk\"]\n",
    "\n",
    "    for phrase in phrases:\n",
    "\n",
    "        for name in potential_names:\n",
    "            if name in phrase:\n",
    "                bank_phrases.append(phrase)\n",
    "\n",
    "    new_text = \" \".join(bank_phrases)\n",
    "\n",
    "    bankname_df.at[i,'TEXT'] = new_text\n"
   ]
  },
  {
   "cell_type": "code",
   "execution_count": 11,
   "metadata": {},
   "outputs": [],
   "source": [
    "art_df = bankname_df[['row_id', 'TEXT']].copy()\n",
    "\n",
    "art_df['TEXT'] = art_df['TEXT'].str.replace(\"[^a-zA-Z#]\", \" \")\n",
    "\n",
    "art_df['TEXT'] = art_df['TEXT'].str.casefold()\n",
    "\n",
    "art_df = art_df.fillna('')"
   ]
  },
  {
   "cell_type": "code",
   "execution_count": 12,
   "metadata": {},
   "outputs": [],
   "source": [
    "results_df = pd.DataFrame()\n",
    "results_df['row_id'] = ['99999999999']\n",
    "results_df['sentiment_type'] = pd.NA\n",
    "results_df['sentiment_score'] = 0"
   ]
  },
  {
   "cell_type": "code",
   "execution_count": 14,
   "metadata": {},
   "outputs": [],
   "source": [
    "sid = SentimentIntensityAnalyzer()\n",
    "t_df = results_df\n",
    "\n",
    "for index, row in art_df.iterrows():\n",
    "\n",
    "    #print(index)\n",
    "\n",
    "    scores = sid.polarity_scores(row[1])\n",
    "\n",
    "    for key, value in scores.items():\n",
    "\n",
    "        temp = [key,value,row[0]]\n",
    "\n",
    "        results_df['row_id'] = row[0]\n",
    "        results_df['sentiment_type'] = key\n",
    "        results_df['sentiment_score'] = value\n",
    "\n",
    "        t_df = pd.concat([t_df, results_df], ignore_index=True)\n",
    "\n",
    "t_df_cleaned = t_df[t_df.row_id != '99999999999']\n",
    "\n",
    "t_df_cleaned = t_df_cleaned.drop_duplicates()\n",
    "\n",
    "t_df_cleaned = t_df[t_df.sentiment_type == 'compound']"
   ]
  },
  {
   "cell_type": "code",
   "execution_count": 15,
   "metadata": {},
   "outputs": [],
   "source": [
    "article_scores_df = pd.merge(art_df_full, t_df_cleaned, on='row_id', how='inner')\n",
    "\n",
    "article_scores_df['YEAR'] = article_scores_df['DATE'].str.slice(0,4)\n",
    "\n",
    "article_scores_df = article_scores_df.drop(article_scores_df.columns[[7]] , axis=1)\n",
    "\n",
    "bank_phrase_scores = article_scores_df[['row_id', 'sentiment_score']].copy()\n",
    "\n",
    "bank_phrase_scores.columns = ['row_id','phrase_score']\n",
    "\n",
    "bank_phrase_scores.to_csv(\"elon_phrase_scores.csv\", encoding='utf-8', index=False)\n"
   ]
  }
 ],
 "metadata": {
  "kernelspec": {
   "display_name": "Python 3.10.6 ('DS')",
   "language": "python",
   "name": "python3"
  },
  "language_info": {
   "codemirror_mode": {
    "name": "ipython",
    "version": 3
   },
   "file_extension": ".py",
   "mimetype": "text/x-python",
   "name": "python",
   "nbconvert_exporter": "python",
   "pygments_lexer": "ipython3",
   "version": "3.11.5"
  },
  "orig_nbformat": 4,
  "vscode": {
   "interpreter": {
    "hash": "2833468afbe68c1915aa0ef4526a6a9999e833182eeda04cf9dde33a641b4667"
   }
  }
 },
 "nbformat": 4,
 "nbformat_minor": 2
}
