{
 "cells": [
  {
   "attachments": {},
   "cell_type": "markdown",
   "metadata": {},
   "source": [
    "# Google API scraper"
   ]
  },
  {
   "cell_type": "code",
   "execution_count": null,
   "metadata": {},
   "outputs": [],
   "source": [
    "!pip install -r requirements.txt"
   ]
  },
  {
   "cell_type": "code",
   "execution_count": 2,
   "metadata": {},
   "outputs": [],
   "source": [
    "import requests\n",
    "import pandas as pd\n",
    "import os\n",
    "from dotenv import load_dotenv\n",
    "import json\n",
    "import csv\n",
    "from googleapiclient.discovery import build"
   ]
  },
  {
   "cell_type": "code",
   "execution_count": 16,
   "metadata": {},
   "outputs": [],
   "source": [
    "load_dotenv()\n",
    "\n",
    "API_KEY = os.getenv(\"GOOGLE_CUSTOM_SEARCH_API_KEY\")\n",
    "API_KEY_2 = os.getenv(\"GOOGLE_CUSTOM_SEARCH_API_KEY_2\")\n",
    "SEARCH_ENGINE_ID = os.getenv(\"SEARCH_ENGINE_ID\")\n",
    "SEARCH_ENGINE_ID_2 = os.getenv(\"SEARCH_ENGINE_ID_2\")\n",
    "\n",
    "QUERY = \"Elon%20Musk\"\n",
    "URL = \"https://customsearch.googleapis.com/customsearch/v1\"\n",
    "MONTHS = [\"20220101\", \"20220201\",\"20220301\",\n",
    "          \"20220401\",\"20220501\",\"20220601\",\n",
    "          \"20220701\",\"20220801\",\"20220901\",\n",
    "          \"20221001\",\"20221101\",\"20221201\",\n",
    "          \"20230101\",]\n",
    "\n",
    "# service = build(\"customsearch\", \"v1\", developerKey=API_KEY)\n",
    "# "
   ]
  },
  {
   "cell_type": "code",
   "execution_count": null,
   "metadata": {},
   "outputs": [],
   "source": [
    "# todo: add more params\n",
    "responses = []\n",
    "params = {\n",
    "    'cx': SEARCH_ENGINE_ID,\n",
    "    'key': API_KEY,\n",
    "    'q': QUERY,\n",
    "    # 'dateRestrict': f\"{START_DATE}-{END_DATE}\"\n",
    "    # 'sort':f'date:r:{START_DATE}:{END_DATE}',\n",
    "}\n",
    "for i in range(len(MONTHS) -1):\n",
    "    start = MONTHS[i]\n",
    "    end = MONTHS[i+1]\n",
    "    n=1\n",
    "    for n in range(1,80,10):\n",
    "        # params['start'] = n\n",
    "        # data = requests.get(URL, params=params)\n",
    "        data = requests.get(f\"https://customsearch.googleapis.com/customsearch/v1?cx={SEARCH_ENGINE_ID_2}&q={QUERY}&key={API_KEY_2}&start={n}&sort=date:r:{start}:{end}\")\n",
    "        responses.append(data)\n",
    "\n",
    "# &sort=date:r:{START_DATE}:{END_DATE}"
   ]
  },
  {
   "cell_type": "code",
   "execution_count": 26,
   "metadata": {},
   "outputs": [],
   "source": [
    "\n",
    "urls, snippets, titles, dates = [], [], [], []\n",
    "for data in responses:\n",
    "    try:\n",
    "        results = json.loads(data.content.decode('UTF-8'))[\"items\"]\n",
    "        # print(\"Success\")\n",
    "    except:\n",
    "        # print(\"No 'items' in response contents\")\n",
    "        continue\n",
    "    for result in results:\n",
    "        urls.append(result[\"link\"])\n",
    "        snippets.append(result[\"snippet\"])\n",
    "        titles.append(result[\"title\"])\n",
    "        # dates.append(result[''])\n",
    "\n",
    "# urls"
   ]
  },
  {
   "cell_type": "code",
   "execution_count": 27,
   "metadata": {},
   "outputs": [
    {
     "name": "stdout",
     "output_type": "stream",
     "text": [
      "213\n",
      "223\n"
     ]
    }
   ],
   "source": [
    "print(len(set(urls)))\n",
    "print(len(urls))\n"
   ]
  },
  {
   "cell_type": "code",
   "execution_count": 21,
   "metadata": {},
   "outputs": [],
   "source": [
    "with open(\"results.csv\", 'w',encoding='utf-8', newline='') as file:\n",
    "    writer = csv.writer(file)\n",
    "    writer.writerow([\"URL\",\"Title\",\"Snippet\"])\n",
    "    for url, title, snippet in zip(urls, titles, snippets):\n",
    "        writer.writerow([url, title, snippet])"
   ]
  }
 ],
 "metadata": {
  "kernelspec": {
   "display_name": "Python 3",
   "language": "python",
   "name": "python3"
  },
  "language_info": {
   "codemirror_mode": {
    "name": "ipython",
    "version": 3
   },
   "file_extension": ".py",
   "mimetype": "text/x-python",
   "name": "python",
   "nbconvert_exporter": "python",
   "pygments_lexer": "ipython3",
   "version": "3.10.2"
  },
  "orig_nbformat": 4
 },
 "nbformat": 4,
 "nbformat_minor": 2
}
