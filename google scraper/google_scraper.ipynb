{
 "cells": [
  {
   "attachments": {},
   "cell_type": "markdown",
   "metadata": {},
   "source": [
    "# Google API scraper"
   ]
  },
  {
   "cell_type": "code",
   "execution_count": null,
   "metadata": {},
   "outputs": [],
   "source": [
    "!pip install -r requirements.txt"
   ]
  },
  {
   "cell_type": "code",
   "execution_count": 1,
   "metadata": {},
   "outputs": [],
   "source": [
    "import requests\n",
    "import pandas as pd\n",
    "import os\n",
    "from dotenv import load_dotenv\n",
    "import json\n",
    "import csv"
   ]
  },
  {
   "cell_type": "code",
   "execution_count": 9,
   "metadata": {},
   "outputs": [],
   "source": [
    "load_dotenv()\n",
    "\n",
    "API_KEY = os.getenv(\"GOOGLE_CUSTOM_SEARCH_API_KEY\")\n",
    "API_KEY_2 = os.getenv(\"GOOGLE_CUSTOM_SEARCH_API_KEY_2\")\n",
    "SEARCH_ENGINE_ID = os.getenv(\"SEARCH_ENGINE_ID\")\n",
    "SEARCH_ENGINE_ID_2 = os.getenv(\"SEARCH_ENGINE_ID_2\")\n",
    "\n",
    "QUERY = \"Elon%20Musk\"\n",
    "URL = \"https://customsearch.googleapis.com/customsearch/v1\"\n",
    "MONTHS = [\"20230101\", \"20230201\",\"20230301\",\n",
    "          \"20230401\",\"20230501\",\"20230601\",\n",
    "          \"20230701\",\"20230801\",\"20230901\",\n",
    "          \"20231001\",\"20231101\",\"20231201\"]\n",
    " "
   ]
  },
  {
   "cell_type": "code",
   "execution_count": 10,
   "metadata": {},
   "outputs": [],
   "source": [
    "# todo: add more params\n",
    "responses = []\n",
    "dates = []\n",
    "params = {\n",
    "    'cx': SEARCH_ENGINE_ID,\n",
    "    'key': API_KEY,\n",
    "    'q': QUERY,\n",
    "}\n",
    "for i in range(len(MONTHS) -1):\n",
    "    start = MONTHS[i]\n",
    "    end = MONTHS[i+1]\n",
    "    n=1\n",
    "    for n in range(1,80,10):\n",
    "        data = requests.get(f\"https://customsearch.googleapis.com/customsearch/v1?cx={SEARCH_ENGINE_ID}&q={QUERY}&key={API_KEY}&start={n}&sort=date:r:{start}:{end}\")\n",
    "        responses.append(data)\n",
    "        dates.append(MONTHS[i])"
   ]
  },
  {
   "cell_type": "code",
   "execution_count": 12,
   "metadata": {},
   "outputs": [],
   "source": [
    "\n",
    "urls, snippets, titles, ndates = [], [], [], []\n",
    "for data, date in zip(responses, dates):\n",
    "    try:\n",
    "        results = json.loads(data.content.decode('UTF-8'))[\"items\"]\n",
    "        # print(\"Success\")\n",
    "    except:\n",
    "        # print(\"No 'items' in response contents\")\n",
    "        continue\n",
    "    for result in results:\n",
    "        urls.append(result[\"link\"])\n",
    "        try:\n",
    "            snippets.append(result[\"snippet\"])\n",
    "        except:\n",
    "            snippets.append(\"NA\")\n",
    "        titles.append(result[\"title\"])\n",
    "        ndates.append(date)"
   ]
  },
  {
   "cell_type": "code",
   "execution_count": 13,
   "metadata": {},
   "outputs": [
    {
     "name": "stdout",
     "output_type": "stream",
     "text": [
      "431\n",
      "408\n",
      "431\n"
     ]
    }
   ],
   "source": [
    "print(len(ndates))\n",
    "print(len(set(urls)))\n",
    "print(len(urls))\n"
   ]
  },
  {
   "cell_type": "code",
   "execution_count": 14,
   "metadata": {},
   "outputs": [],
   "source": [
    "with open(\"results.csv\", 'a',encoding='utf-8', newline='') as file:\n",
    "    writer = csv.writer(file)\n",
    "    writer.writerow([\"URL\",\"Title\", \"Date\", \"Snippet\"])\n",
    "    for url, title, date, snippet in zip(urls, titles, ndates, snippets):\n",
    "        writer.writerow([url, title, date, snippet])"
   ]
  }
 ],
 "metadata": {
  "kernelspec": {
   "display_name": "Python 3",
   "language": "python",
   "name": "python3"
  },
  "language_info": {
   "codemirror_mode": {
    "name": "ipython",
    "version": 3
   },
   "file_extension": ".py",
   "mimetype": "text/x-python",
   "name": "python",
   "nbconvert_exporter": "python",
   "pygments_lexer": "ipython3",
   "version": "3.10.2"
  },
  "orig_nbformat": 4
 },
 "nbformat": 4,
 "nbformat_minor": 2
}
