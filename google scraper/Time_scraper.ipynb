{
 "cells": [
  {
   "cell_type": "code",
   "execution_count": 190,
   "metadata": {},
   "outputs": [],
   "source": [
    "#SCRAPING\n",
    "import requests\n",
    "from bs4 import BeautifulSoup\n",
    "import pandas as pd"
   ]
  },
  {
   "cell_type": "code",
   "execution_count": 191,
   "metadata": {},
   "outputs": [],
   "source": [
    "res = requests.get(\"https://time.com/6171272/elon-musk-twitter-disinformation/\")\n",
    "soup = BeautifulSoup(res.content, \"html.parser\")\n",
    "\n",
    "title = soup.find_all(\"h1\")\n",
    "body = soup.find_all(\"p\")"
   ]
  },
  {
   "cell_type": "code",
   "execution_count": 192,
   "metadata": {},
   "outputs": [
    {
     "data": {
      "text/plain": [
       "[<p><span class=\"dropcap\" role=\"presentation\">W</span>hile much of the online world reacted with surprise and skepticism when news broke of <a href=\"https://time.com/person-of-the-year-2021-elon-musk/\">Elon Musk’s</a> stunning <a href=\"https://time.com/6170319/elon-musk-buys-twitter/\">$44 billion acquisition of Twitter</a> on Monday, some corners of the Internet broke out in jubilation. “Today is a massive cause for celebration!” one user posted on the messaging app Telegram.</p>,\n",
       " <p>That user, a conspiracist who goes by BioClandestine, was suspended from Twitter in February after sparking a viral conspiracy about the U.S. funding the development of bioweapons in Ukraine, which went on to be amplified by the Kremlin. All of that was about to change, he told his followers: “Moving forward, when massive stories like the Hunter Biden laptop and US biolabs arise, Twitter will allow the information to flow freely, instead of labeling these inconvenient truths as ‘Russian disinformation.’”</p>,\n",
       " <p>It’s still unclear what major changes, if any, Musk will ultimately implement at Twitter. But that hasn’t stopped a wide range of far-right influencers, conspiracists, and popular purveyors of disinformation and extremist ideologies from celebrating the takeover by the self-proclaimed “free speech absolutist” as a way to return to the platform.</p>,\n",
       " <p><strong>Read More: </strong><em><a href=\"https://time.com/6170696/elon-musk-politics-twitter/\">What Elon Musk Really Believes</a></em></p>,\n",
       " <p>The eccentric tech billionaire is being hailed as an unlikely hero by far-right groups, from the Proud Boys to white nationalist activists and conspiracists—many of whom have been banned from Twitter. “We (Patriots) have a lot of unfinished business left to settle on Twitter,” an influencer named “Qtah” wrote on Telegram, which was echoed by QAnon figure Ron Watkins. “LETS F-CKING GOOO,” posted white nationalist commentator Nick Fuentes, who was banned from Twitter last year. “We’re back.”</p>,\n",
       " <p>The deal is not set to close for another three to six months, but Musk has made no secret of his disdain for some of Twitter’s moderation policies. He has indicated that he envisions a more hands-off approach to make the platform a haven for unfettered expression, only removing content if it’s required by law. “If it’s a gray area, let the tweet exist,” Musk said in a TED Talk last week, echoing his previous statements that he thinks the company’s efforts to moderate legal but problematic, controversial, or offensive content have gone too far. Republicans and conservative groups have criticized these policies for censoring their voices and viewpoints. (Research from Twitter <a href=\"https://time.com/6170647/elon-musk-twitter-harassment-employees/\" rel=\"noopener noreferrer\" target=\"_blank\">shows that rightwing</a> partisan news sources have received a greater boost from Twitter’s algorithm than moderate or left-leaning news sources in the past.)</p>,\n",
       " <p>But former employees, analysts, and experts have warned that efforts to roll back Twitter’s recent policies could lead to an uptick in disinformation, extremist content, harassment, and hate speech that the company has tried to crack down on for years. These stricter rules were developed slowly over the past decade as social media companies learned how bad actors could manipulate their platforms. In some countries, leaders have used Twitter to harass and silence critics, manipulate public opinion, and incite ethnic and religious violence. “Musk’s takeover does represent a really chaotic and uncertain moment, and in those kinds of chaotic moments it’s the forces that are most organized and most passionate that usually get their way,” says Emerson Brooking, a senior fellow at the Atlantic Council’s Digital Forensic Research Lab. “And right now that is the far-right, right now that is hateful voices which were excluded from Twitter previously.”</p>,\n",
       " <p>After many prominent far-right influencers, white nationalists, conspiracists, and grifters peddling political and health disinformation were banned from Twitter in recent years, legions of their followers swore off the platform and decamped to alternative ones. But Musk’s takeover seems to have convinced some of these users that they will be able to return to the app—and once again reach a wider audience.</p>,\n",
       " <p><strong>Read More:</strong><em><a href=\"https://time.com/5881595/right-wing-conspiracy-theorists-coronavirus/\"> How Far-Right Personalities and Conspiracy Theorists Are Cashing in on the Pandemic Online</a></em></p>,\n",
       " <p>Alternative social media platforms like Gab, GETTR, Parler and <a href=\"https://time.com/6170560/elon-musk-twitter-trump-future/\">Donald Trump’s TRUTH social</a> attract users of similar mindsets and make it more difficult to grow mass audiences by engaging with their detractors. (“Truth Social (terrible name) exists because Twitter censored free speech,” Musk <a href=\"https://twitter.com/elonmusk/status/1519363666377908225\" target=\"_blank\">tweeted</a> on Wednesday.) Twitter has proven to be uniquely powerful when it comes to skewing the information ecosystem, says Alicia Wanless, director of the Partnership for Countering Influence Operations at the Carnegie Endowment for Peace in Washington. “It’s very telling that there is a body of users who are celebrating being able to come back, who likely are finding that they can’t reach or grow their audiences on those smaller platforms,” she says. “You’ll find more like-minded people” on apps like Gab, Wanless adds, “but you’re not necessarily hitting the mainstream.” </p>,\n",
       " <p>These users recognize Twitter’s influence. “Twitter must be acquired and censorship halted on there to begin a slow-burn red-pilling process,” one user wrote on a popular QAnon forum, using the term for converting people to far-right beliefs. “Think a bit…How is trans agenda infiltrating every classroom so quickly?” another person wrote. “Twitter is the vehicle of narrative shaping.” Another agreed: “Right, Twitter can literally steer world events and more importantly the public’s perception of the meaning of world events.”</p>,\n",
       " <p>America’s Frontline Doctors, a right-wing political group that has built a loyal following in anti-vaccine circles by spreading health disinformation and selling access to alternative Covid-19 cures, posted several articles about the Musk deal, including one encouraging people to use the #ThanksElon hashtag. “Twitter is free, and we the Truckers are ready to take over and prepare a massive campaign with the help of Elon Musk,” read a message on a popular “Truckers for Freedom” Telegram account that was originally started for anti-vaccine protests and has since become a catch-all for conspiracies and disinformation about COVID-19, elections, and the war in Ukraine.</p>,\n",
       " <p>Despite the exultation from many of these groups, and warnings from experts and employees, Musk has yet to detail how or whether he intends to roll back Twitter’s moderation policies. But until he does, these groups have made it clear they see his deal as a victory. “Elon Musk buying Twitter,” one rightwing Telegram account said, “feels like the digital Berlin Wall coming down.”</p>,\n",
       " <p class=\"author-feedback-text\"><strong>Write to </strong>Vera Bergengruen at <a href=\"mailto:vera.bergengruen@time.com?subject=(READER FEEDBACK) 'We're Back.' Far-Right Groups Celebrate Elon Musk's Twitter Takeover&amp;body=https%3A%2F%2Ftime.com%2F6171272%2Felon-musk-twitter-disinformation%2F\" rel=\"noopener noreferrer\" target=\"_self\">vera.bergengruen@time.com</a>.</p>]"
      ]
     },
     "execution_count": 192,
     "metadata": {},
     "output_type": "execute_result"
    }
   ],
   "source": [
    "title\n",
    "body"
   ]
  },
  {
   "cell_type": "code",
   "execution_count": 193,
   "metadata": {},
   "outputs": [
    {
     "data": {
      "text/plain": [
       "\"'We're Back.' Far-Right Groups Celebrate Elon Musk's Twitter Takeover\""
      ]
     },
     "execution_count": 193,
     "metadata": {},
     "output_type": "execute_result"
    }
   ],
   "source": [
    "for x in title:\n",
    "    title = x.text.strip()\n",
    "\n",
    "title\n"
   ]
  },
  {
   "cell_type": "code",
   "execution_count": 194,
   "metadata": {},
   "outputs": [
    {
     "data": {
      "text/plain": [
       "'While much of the online world reacted with surprise and skepticism when news broke of Elon Musk’s stunning $44 billion acquisition of Twitter on Monday, some corners of the Internet broke out in jubilation. “Today is a massive cause for celebration!” one user posted on the messaging app Telegram.\\n\\nThat user, a conspiracist who goes by BioClandestine, was suspended from Twitter in February after sparking a viral conspiracy about the U.S. funding the development of bioweapons in Ukraine, which went on to be amplified by the Kremlin. All of that was about to change, he told his followers: “Moving forward, when massive stories like the Hunter Biden laptop and US biolabs arise, Twitter will allow the information to flow freely, instead of labeling these inconvenient truths as ‘Russian disinformation.’”\\n\\nIt’s still unclear what major changes, if any, Musk will ultimately implement at Twitter. But that hasn’t stopped a wide range of far-right influencers, conspiracists, and popular purveyors of disinformation and extremist ideologies from celebrating the takeover by the self-proclaimed “free speech absolutist” as a way to return to the platform.\\n\\nThe eccentric tech billionaire is being hailed as an unlikely hero by far-right groups, from the Proud Boys to white nationalist activists and conspiracists—many of whom have been banned from Twitter. “We (Patriots) have a lot of unfinished business left to settle on Twitter,” an influencer named “Qtah” wrote on Telegram, which was echoed by QAnon figure Ron Watkins. “LETS F-CKING GOOO,” posted white nationalist commentator Nick Fuentes, who was banned from Twitter last year. “We’re back.”\\n\\nThe deal is not set to close for another three to six months, but Musk has made no secret of his disdain for some of Twitter’s moderation policies. He has indicated that he envisions a more hands-off approach to make the platform a haven for unfettered expression, only removing content if it’s required by law. “If it’s a gray area, let the tweet exist,” Musk said in a TED Talk last week, echoing his previous statements that he thinks the company’s efforts to moderate legal but problematic, controversial, or offensive content have gone too far. Republicans and conservative groups have criticized these policies for censoring their voices and viewpoints. (Research from Twitter shows that rightwing partisan news sources have received a greater boost from Twitter’s algorithm than moderate or left-leaning news sources in the past.)\\n\\nBut former employees, analysts, and experts have warned that efforts to roll back Twitter’s recent policies could lead to an uptick in disinformation, extremist content, harassment, and hate speech that the company has tried to crack down on for years. These stricter rules were developed slowly over the past decade as social media companies learned how bad actors could manipulate their platforms. In some countries, leaders have used Twitter to harass and silence critics, manipulate public opinion, and incite ethnic and religious violence. “Musk’s takeover does represent a really chaotic and uncertain moment, and in those kinds of chaotic moments it’s the forces that are most organized and most passionate that usually get their way,” says Emerson Brooking, a senior fellow at the Atlantic Council’s Digital Forensic Research Lab. “And right now that is the far-right, right now that is hateful voices which were excluded from Twitter previously.”\\n\\nAfter many prominent far-right influencers, white nationalists, conspiracists, and grifters peddling political and health disinformation were banned from Twitter in recent years, legions of their followers swore off the platform and decamped to alternative ones. But Musk’s takeover seems to have convinced some of these users that they will be able to return to the app—and once again reach a wider audience.\\n\\nAlternative social media platforms like Gab, GETTR, Parler and Donald Trump’s TRUTH social attract users of similar mindsets and make it more difficult to grow mass audiences by engaging with their detractors. (“Truth Social (terrible name) exists because Twitter censored free speech,” Musk tweeted on Wednesday.) Twitter has proven to be uniquely powerful when it comes to skewing the information ecosystem, says Alicia Wanless, director of the Partnership for Countering Influence Operations at the Carnegie Endowment for Peace in Washington. “It’s very telling that there is a body of users who are celebrating being able to come back, who likely are finding that they can’t reach or grow their audiences on those smaller platforms,” she says. “You’ll find more like-minded people” on apps like Gab, Wanless adds, “but you’re not necessarily hitting the mainstream.” \\n\\nThese users recognize Twitter’s influence. “Twitter must be acquired and censorship halted on there to begin a slow-burn red-pilling process,” one user wrote on a popular QAnon forum, using the term for converting people to far-right beliefs. “Think a bit…How is trans agenda infiltrating every classroom so quickly?” another person wrote. “Twitter is the vehicle of narrative shaping.” Another agreed: “Right, Twitter can literally steer world events and more importantly the public’s perception of the meaning of world events.”\\n\\nAmerica’s Frontline Doctors, a right-wing political group that has built a loyal following in anti-vaccine circles by spreading health disinformation and selling access to alternative Covid-19 cures, posted several articles about the Musk deal, including one encouraging people to use the #ThanksElon hashtag. “Twitter is free, and we the Truckers are ready to take over and prepare a massive campaign with the help of Elon Musk,” read a message on a popular “Truckers for Freedom” Telegram account that was originally started for anti-vaccine protests and has since become a catch-all for conspiracies and disinformation about COVID-19, elections, and the war in Ukraine.\\n\\nDespite the exultation from many of these groups, and warnings from experts and employees, Musk has yet to detail how or whether he intends to roll back Twitter’s moderation policies. But until he does, these groups have made it clear they see his deal as a victory. “Elon Musk buying Twitter,” one rightwing Telegram account said, “feels like the digital Berlin Wall coming down.”'"
      ]
     },
     "execution_count": 194,
     "metadata": {},
     "output_type": "execute_result"
    }
   ],
   "source": [
    "unwanted_phrases = [\"Read More\", \"Write to\"]\n",
    "filtered_paragraphs = [p.get_text() for p in body if not any(phrase in p.get_text() for phrase in unwanted_phrases)]\n",
    "\n",
    "# Joining the filtered paragraphs\n",
    "main_content = \"\\n\\n\".join(filtered_paragraphs)\n",
    "\n",
    "\n",
    "main_content\n",
    "\n"
   ]
  },
  {
   "cell_type": "code",
   "execution_count": 197,
   "metadata": {},
   "outputs": [
    {
     "data": {
      "text/html": [
       "<div>\n",
       "<style scoped>\n",
       "    .dataframe tbody tr th:only-of-type {\n",
       "        vertical-align: middle;\n",
       "    }\n",
       "\n",
       "    .dataframe tbody tr th {\n",
       "        vertical-align: top;\n",
       "    }\n",
       "\n",
       "    .dataframe thead th {\n",
       "        text-align: right;\n",
       "    }\n",
       "</style>\n",
       "<table border=\"1\" class=\"dataframe\">\n",
       "  <thead>\n",
       "    <tr style=\"text-align: right;\">\n",
       "      <th></th>\n",
       "      <th>Title</th>\n",
       "      <th>Body</th>\n",
       "    </tr>\n",
       "  </thead>\n",
       "  <tbody>\n",
       "    <tr>\n",
       "      <th>0</th>\n",
       "      <td>'We're Back.' Far-Right Groups Celebrate Elon ...</td>\n",
       "      <td>While much of the online world reacted with su...</td>\n",
       "    </tr>\n",
       "  </tbody>\n",
       "</table>\n",
       "</div>"
      ],
      "text/plain": [
       "                                               Title  \\\n",
       "0  'We're Back.' Far-Right Groups Celebrate Elon ...   \n",
       "\n",
       "                                                Body  \n",
       "0  While much of the online world reacted with su...  "
      ]
     },
     "execution_count": 197,
     "metadata": {},
     "output_type": "execute_result"
    }
   ],
   "source": [
    "article_data = [[title, main_content]]\n",
    "article = pd.DataFrame(article_data, columns=[\"Title\", \"Body\"])\n",
    "\n",
    "article\n"
   ]
  }
 ],
 "metadata": {
  "kernelspec": {
   "display_name": "base",
   "language": "python",
   "name": "python3"
  },
  "language_info": {
   "codemirror_mode": {
    "name": "ipython",
    "version": 3
   },
   "file_extension": ".py",
   "mimetype": "text/x-python",
   "name": "python",
   "nbconvert_exporter": "python",
   "pygments_lexer": "ipython3",
   "version": "3.9.12"
  },
  "orig_nbformat": 4
 },
 "nbformat": 4,
 "nbformat_minor": 2
}
