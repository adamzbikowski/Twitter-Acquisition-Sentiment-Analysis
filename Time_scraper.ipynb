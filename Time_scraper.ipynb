{
 "cells": [
  {
   "cell_type": "code",
   "execution_count": 12,
   "metadata": {},
   "outputs": [],
   "source": [
    "#SCRAPING\n",
    "import requests\n",
    "from bs4 import BeautifulSoup\n",
    "import pandas as pd"
   ]
  },
  {
   "cell_type": "code",
   "execution_count": 13,
   "metadata": {},
   "outputs": [],
   "source": [
    "res = requests.get(\"https://time.com/6171272/elon-musk-twitter-disinformation/\")\n",
    "soup = BeautifulSoup(res.content, \"html.parser\")\n",
    "\n",
    "title = soup.find_all(\"h1\")\n",
    "body = soup.find_all(\"p\")\n",
    "date = soup.find_all(\"time\")\n",
    "author = soup.find('a', class_='bold author-name')\n"
   ]
  },
  {
   "cell_type": "code",
   "execution_count": 15,
   "metadata": {},
   "outputs": [
    {
     "data": {
      "text/plain": [
       "\"'We're Back.' Far-Right Groups Celebrate Elon Musk's Twitter Takeover\""
      ]
     },
     "execution_count": 15,
     "metadata": {},
     "output_type": "execute_result"
    }
   ],
   "source": [
    "#title \n",
    "for x in title:\n",
    "    title = x.text.strip()\n",
    "\n",
    "title\n"
   ]
  },
  {
   "cell_type": "code",
   "execution_count": null,
   "metadata": {},
   "outputs": [],
   "source": [
    "#main body paragraph\n",
    "unwanted_phrases = [\"Read More\", \"Write to\"]\n",
    "filtered_paragraphs = [p.get_text() for p in body if not any(phrase in p.get_text() for phrase in unwanted_phrases)]\n",
    "\n",
    "\n",
    "main_content = \"\\n\\n\".join(filtered_paragraphs)"
   ]
  },
  {
   "cell_type": "code",
   "execution_count": null,
   "metadata": {},
   "outputs": [],
   "source": [
    "#author name\n",
    "author = author.text.strip() if author else None"
   ]
  },
  {
   "cell_type": "code",
   "execution_count": 22,
   "metadata": {},
   "outputs": [
    {
     "data": {
      "text/plain": [
       "'April 27, 2022 5:27 PM EDT'"
      ]
     },
     "execution_count": 22,
     "metadata": {},
     "output_type": "execute_result"
    }
   ],
   "source": [
    "#date\n",
    "date = date[0].text.strip()\n"
   ]
  },
  {
   "cell_type": "code",
   "execution_count": 23,
   "metadata": {},
   "outputs": [
    {
     "data": {
      "text/html": [
       "<div>\n",
       "<style scoped>\n",
       "    .dataframe tbody tr th:only-of-type {\n",
       "        vertical-align: middle;\n",
       "    }\n",
       "\n",
       "    .dataframe tbody tr th {\n",
       "        vertical-align: top;\n",
       "    }\n",
       "\n",
       "    .dataframe thead th {\n",
       "        text-align: right;\n",
       "    }\n",
       "</style>\n",
       "<table border=\"1\" class=\"dataframe\">\n",
       "  <thead>\n",
       "    <tr style=\"text-align: right;\">\n",
       "      <th></th>\n",
       "      <th>Date</th>\n",
       "      <th>Author</th>\n",
       "      <th>Title</th>\n",
       "      <th>Body</th>\n",
       "    </tr>\n",
       "  </thead>\n",
       "  <tbody>\n",
       "    <tr>\n",
       "      <th>0</th>\n",
       "      <td>April 27, 2022 5:27 PM EDT</td>\n",
       "      <td>Vera Bergengruen</td>\n",
       "      <td>'We're Back.' Far-Right Groups Celebrate Elon ...</td>\n",
       "      <td>While much of the online world reacted with su...</td>\n",
       "    </tr>\n",
       "  </tbody>\n",
       "</table>\n",
       "</div>"
      ],
      "text/plain": [
       "                         Date            Author  \\\n",
       "0  April 27, 2022 5:27 PM EDT  Vera Bergengruen   \n",
       "\n",
       "                                               Title  \\\n",
       "0  'We're Back.' Far-Right Groups Celebrate Elon ...   \n",
       "\n",
       "                                                Body  \n",
       "0  While much of the online world reacted with su...  "
      ]
     },
     "execution_count": 23,
     "metadata": {},
     "output_type": "execute_result"
    }
   ],
   "source": [
    "article_data = [[date, author, title, main_content,]]\n",
    "article = pd.DataFrame(article_data, columns=[\"Date\", \"Author\", \"Title\", \"Body\"])\n",
    "\n",
    "article"
   ]
  }
 ],
 "metadata": {
  "kernelspec": {
   "display_name": "base",
   "language": "python",
   "name": "python3"
  },
  "language_info": {
   "codemirror_mode": {
    "name": "ipython",
    "version": 3
   },
   "file_extension": ".py",
   "mimetype": "text/x-python",
   "name": "python",
   "nbconvert_exporter": "python",
   "pygments_lexer": "ipython3",
   "version": "3.9.12"
  },
  "orig_nbformat": 4
 },
 "nbformat": 4,
 "nbformat_minor": 2
}
