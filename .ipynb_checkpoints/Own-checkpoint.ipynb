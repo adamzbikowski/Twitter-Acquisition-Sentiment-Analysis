{
 "cells": [
  {
   "cell_type": "code",
   "execution_count": null,
   "id": "2183b709",
   "metadata": {},
   "outputs": [],
   "source": [
    "pip install google-api-python-client"
   ]
  },
  {
   "cell_type": "code",
   "execution_count": null,
   "id": "f3e7b414",
   "metadata": {},
   "outputs": [],
   "source": [
    "import googleapiclient.discovery\n",
    "from googleapiclient.discovery import build\n",
    "import pandas as pd\n",
    "import datetime\n",
    "from datetime import timedelta, datetime\n",
    "import os\n",
    "from dotenv import load_dotenv"
   ]
  },
  {
   "cell_type": "code",
   "execution_count": null,
   "id": "a3b2ebb3",
   "metadata": {},
   "outputs": [],
   "source": [
    "load_dotenv()\n",
    "API_KEY = os.getenv(\"Youtube_API_KEY\")\n",
    "\n",
    "youtube = build('youtube', 'v3', developerKey=API_KEY)"
   ]
  },
  {
   "cell_type": "code",
   "execution_count": null,
   "id": "cebfdae2",
   "metadata": {},
   "outputs": [],
   "source": [
    "def searching(query, number, time_frame):\n",
    "    request = youtube.search().list(\n",
    "        part='id',\n",
    "        publishedAfter = time_frame[0],\n",
    "        publishedBefore = time_frame[1],\n",
    "        maxResults= number,\n",
    "        q=query,\n",
    "        order = 'relevance',\n",
    "        type ='video',\n",
    "        fields='items/id'\n",
    "        )\n",
    "\n",
    "    response = request.execute()\n",
    "    \n",
    "    id_list = []\n",
    "\n",
    "    for item in response['items']:\n",
    "        id_list.append(item['id']['videoId'])\n",
    "    \n",
    "    return id_list"
   ]
  },
  {
   "cell_type": "code",
   "execution_count": null,
   "id": "f3956c23",
   "metadata": {},
   "outputs": [],
   "source": [
    "def videoinfo(id_list):\n",
    "    video = []\n",
    "    for i in id_list: \n",
    "        request = youtube.videos().list(\n",
    "            part=\"snippet, statistics\",\n",
    "            id= i\n",
    "        )\n",
    "\n",
    "        response = request.execute()\n",
    "\n",
    "        each_snippet = response['items'][0]['snippet']\n",
    "        each_stat = response['items'][0][\"statistics\"]\n",
    "\n",
    "        video.append([\n",
    "            i,\n",
    "            each_snippet['publishedAt'],\n",
    "            each_snippet[\"title\"],\n",
    "            each_snippet[\"channelTitle\"],\n",
    "            each_stat[\"viewCount\"],\n",
    "            each_stat[\"commentCount\"] #the number of comments of a video, does not have replies count\n",
    "\n",
    "        ])\n",
    "\n",
    "    df = pd.DataFrame(video, \n",
    "                       columns=['video_id', 'published_at', 'video_title', 'publisher','view_count','comment_count'])\n",
    "    return df"
   ]
  },
  {
   "cell_type": "code",
   "execution_count": null,
   "id": "87e183e7",
   "metadata": {},
   "outputs": [],
   "source": [
    "def getcomments(video):\n",
    "  request = youtube.commentThreads().list(\n",
    "      part=\"snippet\",\n",
    "      videoId=video,\n",
    "      maxResults=100\n",
    "  )\n",
    "\n",
    "  comments = []\n",
    "\n",
    "  # Execute the request.\n",
    "  response = request.execute()\n",
    "\n",
    "  # Get the comments from the response.\n",
    "  for item in response['items']:\n",
    "      comment = item['snippet']['topLevelComment']['snippet']\n",
    "      public = item['snippet']['isPublic']\n",
    "      comments.append([\n",
    "          comment['authorDisplayName'],\n",
    "          comment['publishedAt'],\n",
    "          comment['textOriginal'],\n",
    "          comment['videoId'],\n",
    "      ])\n",
    "\n",
    "  while (1 == 1):\n",
    "    try:\n",
    "     nextPageToken = response['nextPageToken']\n",
    "    except KeyError:\n",
    "     break\n",
    "    nextPageToken = response['nextPageToken']\n",
    "    # Create a new request object with the next page token.\n",
    "    nextRequest = youtube.commentThreads().list(part=\"snippet\", videoId=video, maxResults=100, pageToken=nextPageToken)\n",
    "    # Execute the next request.\n",
    "    response = nextRequest.execute()\n",
    "    # Get the comments from the next response.\n",
    "    \n",
    "    \n",
    "    for item in response['items']:\n",
    "      comment = item['snippet']['topLevelComment']['snippet']\n",
    "      comments.append([\n",
    "          comment['authorDisplayName'],\n",
    "          comment['publishedAt'],\n",
    "          comment['textOriginal'],\n",
    "          comment['videoId'],\n",
    "      ])\n",
    "\n",
    "  df = pd.DataFrame(comments, columns=['AUTHOR', 'DATE', 'TEXT', 'video_id'])\n",
    "  return df"
   ]
  },
  {
   "cell_type": "code",
   "execution_count": null,
   "id": "a458ad05",
   "metadata": {},
   "outputs": [],
   "source": [
    "ending_time = '2023-11-16T00:00:00Z'\n",
    "start_time = datetime(2022, 1, 1)\n",
    "difference = timedelta(days = 30)\n",
    "end_time = start_time + difference\n",
    "\n",
    "time_frame = []\n",
    "time_frame.append(start_time.strftime(\"%Y-%m-%dT%H:%M:%SZ\"))\n",
    "time_frame.append(end_time.strftime(\"%Y-%m-%dT%H:%M:%SZ\"))\n",
    "\n",
    "Query = 'elon musk'\n",
    "Number = 1\n",
    "Videos =[]\n",
    "\n",
    "while time_frame[1] < ending_time:\n",
    "    Videos += searching(Query, Number, time_frame)\n",
    "    start_time += difference\n",
    "    end_time += difference \n",
    "    \n",
    "    if end_time.strftime(\"%Y-%m-%dT%H:%M:%SZ\") > ending_time:\n",
    "        end_time = datetime(2023, 11, 16)\n",
    "\n",
    "    time_frame[0] = start_time.strftime(\"%Y-%m-%dT%H:%M:%SZ\")\n",
    "    time_frame[1] = end_time.strftime(\"%Y-%m-%dT%H:%M:%SZ\")\n",
    "\n",
    "\n",
    "print(Videos)"
   ]
  },
  {
   "cell_type": "code",
   "execution_count": null,
   "id": "80c199d9",
   "metadata": {},
   "outputs": [],
   "source": [
    "Video_Details = videoinfo(Videos)\n",
    "Video_Details"
   ]
  },
  {
   "cell_type": "code",
   "execution_count": null,
   "id": "a84bced7",
   "metadata": {},
   "outputs": [],
   "source": [
    "Comments = pd.DataFrame()\n",
    "for i in Videos:\n",
    "  com = getcomments(i)\n",
    "  Comments = pd.concat([Comments, com])\n",
    "\n",
    "Comments"
   ]
  },
  {
   "cell_type": "code",
   "execution_count": null,
   "id": "5efc63a0",
   "metadata": {},
   "outputs": [],
   "source": [
    "Comments['video_id'].value_counts()"
   ]
  },
  {
   "cell_type": "code",
   "execution_count": null,
   "id": "56b4dbd1",
   "metadata": {},
   "outputs": [],
   "source": [
    "Comments.to_csv(\"Youtube Comments.csv\")"
   ]
  }
 ],
 "metadata": {
  "kernelspec": {
   "display_name": "Python 3 (ipykernel)",
   "language": "python",
   "name": "python3"
  },
  "language_info": {
   "codemirror_mode": {
    "name": "ipython",
    "version": 3
   },
   "file_extension": ".py",
   "mimetype": "text/x-python",
   "name": "python",
   "nbconvert_exporter": "python",
   "pygments_lexer": "ipython3",
   "version": "3.9.13"
  }
 },
 "nbformat": 4,
 "nbformat_minor": 5
}
